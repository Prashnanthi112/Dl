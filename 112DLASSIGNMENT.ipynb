{
  "nbformat": 4,
  "nbformat_minor": 0,
  "metadata": {
    "colab": {
      "provenance": []
    },
    "kernelspec": {
      "name": "python3",
      "display_name": "Python 3"
    },
    "language_info": {
      "name": "python"
    }
  },
  "cells": [
    {
      "cell_type": "code",
      "source": [
        "import numpy as np\n",
        "import tensorflow as tf\n",
        "from tensorflow.keras.preprocessing.text import Tokenizer\n",
        "from tensorflow.keras.preprocessing.sequence import pad_sequences\n",
        "from tensorflow.keras.models import Sequential\n",
        "from tensorflow.keras.layers import Embedding, LSTM, GRU, SimpleRNN, Dense\n",
        "from tensorflow.keras.datasets import imdb\n",
        "\n",
        "# Load the IMDb dataset\n",
        "(x_train, y_train), (x_test, y_test) = imdb.load_data(num_words=10000)\n",
        "\n",
        "# Pad sequences to a fixed length\n",
        "max_sequence_length = 200\n",
        "x_train = pad_sequences(x_train, maxlen=max_sequence_length)\n",
        "x_test = pad_sequences(x_test, maxlen=max_sequence_length)\n",
        "\n",
        "# Create a function to build and train the model\n",
        "def build_and_train_model(model_type, max_sequence_length):\n",
        "    model = Sequential()\n",
        "    model.add(Embedding(input_dim=10000, output_dim=128, input_length=max_sequence_length))\n",
        "\n",
        "    if model_type == 'LSTM':\n",
        "        model.add(LSTM(64))\n",
        "    elif model_type == 'GRU':\n",
        "        model.add(GRU(64))\n",
        "    elif model_type == 'RNN':\n",
        "        model.add(SimpleRNN(64))\n",
        "\n",
        "    model.add(Dense(1, activation='sigmoid'))\n",
        "    model.compile(loss='binary_crossentropy', optimizer='adam', metrics=['accuracy'])\n",
        "\n",
        "    history = model.fit(x_train, y_train, epochs=5, batch_size=64, validation_split=0.2, verbose=1)\n",
        "    return model, history\n",
        "\n",
        "# Build and train models\n",
        "lstm_model, lstm_history = build_and_train_model('LSTM', max_sequence_length)\n",
        "gru_model, gru_history = build_and_train_model('GRU', max_sequence_length)\n",
        "rnn_model, rnn_history = build_and_train_model('RNN', max_sequence_length)\n",
        "\n",
        "# Evaluate models\n",
        "lstm_loss, lstm_accuracy = lstm_model.evaluate(x_test, y_test)\n",
        "gru_loss, gru_accuracy = gru_model.evaluate(x_test, y_test)\n",
        "rnn_loss, rnn_accuracy = rnn_model.evaluate(x_test, y_test)\n",
        "\n",
        "# Print results\n",
        "print(\"LSTM Test Loss:\", lstm_loss)\n",
        "print(\"LSTM Test Accuracy:\", lstm_accuracy)\n",
        "print(\"GRU Test Loss:\", gru_loss)\n",
        "print(\"GRU Test Accuracy:\", gru_accuracy)\n",
        "print(\"RNN Test Loss:\", rnn_loss)\n",
        "print(\"RNN Test Accuracy:\", rnn_accuracy)\n"
      ],
      "metadata": {
        "colab": {
          "base_uri": "https://localhost:8080/"
        },
        "id": "96uDQO1ouXRd",
        "outputId": "c29bd13c-ef17-4a33-8b27-641020ab643c"
      },
      "execution_count": null,
      "outputs": [
        {
          "output_type": "stream",
          "name": "stdout",
          "text": [
            "Epoch 1/5\n",
            "313/313 [==============================] - 102s 317ms/step - loss: 0.4275 - accuracy: 0.7969 - val_loss: 0.3319 - val_accuracy: 0.8598\n",
            "Epoch 2/5\n",
            "313/313 [==============================] - 97s 310ms/step - loss: 0.2366 - accuracy: 0.9110 - val_loss: 0.3309 - val_accuracy: 0.8724\n",
            "Epoch 3/5\n",
            "313/313 [==============================] - 98s 314ms/step - loss: 0.1709 - accuracy: 0.9373 - val_loss: 0.3296 - val_accuracy: 0.8604\n",
            "Epoch 4/5\n",
            "313/313 [==============================] - 94s 299ms/step - loss: 0.1364 - accuracy: 0.9505 - val_loss: 0.3960 - val_accuracy: 0.8524\n",
            "Epoch 5/5\n",
            "313/313 [==============================] - ETA: 0s - loss: 0.1267 - accuracy: 0.9536"
          ]
        }
      ]
    }
  ]
}